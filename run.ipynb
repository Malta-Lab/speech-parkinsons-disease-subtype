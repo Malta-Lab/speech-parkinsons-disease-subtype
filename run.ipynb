{
 "cells": [
  {
   "cell_type": "code",
   "execution_count": null,
   "metadata": {},
   "outputs": [],
   "source": [
    "import numpy as np\n",
    "import pickle\n",
    "import random\n",
    "\n",
    "from sklearn.cluster import KMeans"
   ]
  },
  {
   "cell_type": "code",
   "execution_count": null,
   "metadata": {},
   "outputs": [],
   "source": [
    "# Download trained models\n",
    "!wget https://raw.githubusercontent.com/jmp-3/test-notebook/master/trained_models/kmeans_model.pkl\n",
    "!wget https://raw.githubusercontent.com/jmp-3/test-notebook/master/trained_models/scaler_model.pkl\n"
   ]
  },
  {
   "cell_type": "code",
   "execution_count": null,
   "metadata": {},
   "outputs": [],
   "source": [
    "\n",
    "# Load the trained KMeans model from the pickle file\n",
    "with open('kmeans_model.pkl', 'rb') as model_file:\n",
    "    loaded_kmeans = pickle.load(model_file)\n",
    "\n",
    "# Load the scaler from the separate pickle file\n",
    "with open('scaler_model.pkl', 'rb') as scaler_file:\n",
    "    loaded_scaler = pickle.load(scaler_file)\n",
    "\n",
    "# Generate random data for clustering\n",
    "random.seed(42)\n",
    "new_data = np.random.randn(500, 2)\n",
    "\n",
    "# Transform the new data using the loaded scaler\n",
    "new_data_scaled = loaded_scaler.transform(new_data)\n",
    "\n",
    "# Assign the new data to clusters using the loaded model\n",
    "predictions = loaded_kmeans.predict(new_data_scaled)\n",
    "\n",
    "# Print the cluster assignments\n",
    "for i, pred in enumerate(predictions):\n",
    "    print(f\"Data point {i+1} belongs to cluster {pred}.\")"
   ]
  },
  {
   "cell_type": "code",
   "execution_count": null,
   "metadata": {},
   "outputs": [],
   "source": []
  }
 ],
 "metadata": {
  "kernelspec": {
   "display_name": "Python 3",
   "language": "python",
   "name": "python3"
  },
  "language_info": {
   "codemirror_mode": {
    "name": "ipython",
    "version": 3
   },
   "file_extension": ".py",
   "mimetype": "text/x-python",
   "name": "python",
   "nbconvert_exporter": "python",
   "pygments_lexer": "ipython3",
   "version": "3.10.14"
  }
 },
 "nbformat": 4,
 "nbformat_minor": 2
}
