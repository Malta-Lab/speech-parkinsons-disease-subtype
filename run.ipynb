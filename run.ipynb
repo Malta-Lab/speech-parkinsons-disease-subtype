{
 "cells": [
  {
   "cell_type": "code",
   "execution_count": null,
   "metadata": {},
   "outputs": [],
   "source": [
    "import numpy as np\n",
    "import pickle\n",
    "from sklearn.cluster import KMeans"
   ]
  },
  {
   "cell_type": "code",
   "execution_count": null,
   "metadata": {},
   "outputs": [],
   "source": [
    "# We always start with a dataset to train on. Let's download the tiny shakespeare dataset\n",
    "!wget https://raw.githubusercontent.com/jmp-3/test-notebook/master/kmeans_model.pkl\n"
   ]
  },
  {
   "cell_type": "code",
   "execution_count": null,
   "metadata": {},
   "outputs": [],
   "source": [
    "\n",
    "# Load the trained KMeans model from the pickle file\n",
    "with open('kmeans_model.pkl', 'rb') as file:\n",
    "    loaded_kmeans = pickle.load(file)\n",
    "\n",
    "# Generate random data for clustering\n",
    "np.random.seed(42)\n",
    "new_data = np.random.randn(500, 2)\n",
    "\n",
    "# Assign the new data to clusters using the loaded model\n",
    "predictions = loaded_kmeans.predict(new_data)\n",
    "\n",
    "# Print the cluster assignments\n",
    "for i, pred in enumerate(predictions):\n",
    "    print(f\"Data point {i+1} belongs to cluster {pred}.\")"
   ]
  }
 ],
 "metadata": {
  "kernelspec": {
   "display_name": "Python 3",
   "language": "python",
   "name": "python3"
  },
  "language_info": {
   "name": "python",
   "version": "3.9.6"
  }
 },
 "nbformat": 4,
 "nbformat_minor": 2
}
