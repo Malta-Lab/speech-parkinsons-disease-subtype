{
  "cells": [
    {
      "cell_type": "code",
      "execution_count": null,
      "metadata": {
        "id": "-5OJcPPDNSZe"
      },
      "outputs": [],
      "source": [
        "import pickle\n",
        "import random\n",
        "\n",
        "import numpy as np\n",
        "import pandas as pd\n",
        "\n",
        "from google.colab import drive"
      ]
    },
    {
      "cell_type": "code",
      "execution_count": null,
      "metadata": {
        "colab": {
          "base_uri": "https://localhost:8080/"
        },
        "id": "oOxtmVEVNSZg",
        "outputId": "a0c447c1-7003-445e-d77c-3bac507f91ab"
      },
      "outputs": [],
      "source": [
        "# Download trained models\n",
        "!wget https://raw.githubusercontent.com/jmp-3/test-notebook/master/trained_models/kmeans_model.pkl\n",
        "!wget https://raw.githubusercontent.com/jmp-3/test-notebook/master/trained_models/scaler_model.pkl"
      ]
    },
    {
      "cell_type": "code",
      "execution_count": null,
      "metadata": {
        "colab": {
          "base_uri": "https://localhost:8080/"
        },
        "id": "ZIwM-lMeNWpX",
        "outputId": "caa7660f-066b-4f27-adc3-c2c8b8be9d57"
      },
      "outputs": [],
      "source": [
        "# Saves some sythentic data to simulate data file\n",
        "\n",
        "# Mount Google Drive\n",
        "drive.mount('/content/drive')\n",
        "\n",
        "\n",
        "# Set the path to save the data\n",
        "save_path = '/content/drive/MyDrive/data.csv'\n",
        "\n",
        "# Generate random data for clustering\n",
        "np.random.seed(42)\n",
        "new_data = np.random.randn(500, 2)\n",
        "\n",
        "# Save the data to Google Drive\n",
        "pd.DataFrame(new_data).to_csv(save_path, index=False, header=False)\n"
      ]
    },
    {
      "cell_type": "code",
      "execution_count": null,
      "metadata": {
        "colab": {
          "base_uri": "https://localhost:8080/"
        },
        "id": "9976s0d6NSZh",
        "outputId": "f0e30254-364b-45a3-a247-e0d87f31a1cb"
      },
      "outputs": [],
      "source": [
        "load_path = '/content/drive/MyDrive/data.csv'\n",
        "\n",
        "# Load the data from Google Drive\n",
        "loaded_data = pd.read_csv(save_path, header=None)\n",
        "print(loaded_data.head())\n",
        "\n",
        "# Load the trained KMeans model from the pickle file\n",
        "with open('kmeans_model.pkl', 'rb') as model_file:\n",
        "    loaded_kmeans = pickle.load(model_file)\n",
        "\n",
        "# Load the scaler from the separate pickle file\n",
        "with open('scaler_model.pkl', 'rb') as scaler_file:\n",
        "    loaded_scaler = pickle.load(scaler_file)\n",
        "\n",
        "# Transform the new data using the loaded scaler\n",
        "new_data_scaled = loaded_scaler.transform(loaded_data)\n",
        "\n",
        "# Assign the new data to clusters using the loaded model\n",
        "predictions = loaded_kmeans.predict(new_data_scaled)\n",
        "\n",
        "# Print the cluster assignments\n",
        "for i, pred in enumerate(predictions):\n",
        "    print(f\"Data point {i+1} belongs to cluster {pred}.\")"
      ]
    }
  ],
  "metadata": {
    "colab": {
      "provenance": []
    },
    "kernelspec": {
      "display_name": "Python 3",
      "language": "python",
      "name": "python3"
    },
    "language_info": {
      "codemirror_mode": {
        "name": "ipython",
        "version": 3
      },
      "file_extension": ".py",
      "mimetype": "text/x-python",
      "name": "python",
      "nbconvert_exporter": "python",
      "pygments_lexer": "ipython3",
      "version": "3.10.14"
    }
  },
  "nbformat": 4,
  "nbformat_minor": 0
}
